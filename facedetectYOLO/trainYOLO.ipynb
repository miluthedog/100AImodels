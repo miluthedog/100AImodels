{
 "cells": [
  {
   "cell_type": "code",
   "execution_count": null,
   "id": "2e789063-9c11-41f6-9cc1-aa5813dfe150",
   "metadata": {},
   "outputs": [],
   "source": [
    "from ultralytics import YOLO"
   ]
  },
  {
   "cell_type": "code",
   "execution_count": null,
   "id": "fb2f4f3c-63e9-4ba3-9407-8241521c92ac",
   "metadata": {},
   "outputs": [],
   "source": [
    "# pick model\n",
    "model = YOLO(\"yolo11n.pt\")\n",
    "# pick dataset (label with roboflow)\n",
    "model.train(data=\"faceDetectYOLO/data.yaml\", epochs=20, imgsz=640)"
   ]
  },
  {
   "cell_type": "code",
   "execution_count": null,
   "id": "88600467-f70f-4de5-b15a-04c60ab75e2c",
   "metadata": {},
   "outputs": [],
   "source": [
    "# pick best trained model\n",
    "model = YOLO(\"faceDetectYOLO/best.pt\")\n",
    "\n",
    "model.export(format=\"-\")"
   ]
  }
 ],
 "metadata": {
  "kernelspec": {
   "display_name": "Python 3 (ipykernel)",
   "language": "python",
   "name": "python3"
  },
  "language_info": {
   "codemirror_mode": {
    "name": "ipython",
    "version": 3
   },
   "file_extension": ".py",
   "mimetype": "text/x-python",
   "name": "python",
   "nbconvert_exporter": "python",
   "pygments_lexer": "ipython3",
   "version": "3.12.4"
  }
 },
 "nbformat": 4,
 "nbformat_minor": 5
}
